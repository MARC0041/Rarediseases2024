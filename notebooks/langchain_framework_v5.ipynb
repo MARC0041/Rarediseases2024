{
 "cells": [
  {
   "cell_type": "code",
   "execution_count": 22,
   "metadata": {},
   "outputs": [],
   "source": [
    "import os\n",
    "import glob\n",
    "from dotenv import load_dotenv\n",
    "\n",
    "load_dotenv()\n",
    "\n",
    "MODEL = \"llama3\""
   ]
  },
  {
   "cell_type": "code",
   "execution_count": 23,
   "metadata": {},
   "outputs": [],
   "source": [
    "from langchain_community.llms import Ollama\n",
    "from langchain_core.output_parsers import StrOutputParser\n",
    "from langchain.prompts import PromptTemplate\n",
    "from operator import itemgetter\n",
    "\n",
    "# TODO: Using Memory search for now. Good idea to switch to vector database in future\n",
    "from langchain_community.vectorstores import DocArrayInMemorySearch, Chroma\n",
    "from langchain_community.document_loaders import PyPDFLoader\n",
    "from langchain_community.embeddings import OllamaEmbeddings\n",
    "from langchain.document_loaders import PyPDFDirectoryLoader\n",
    "from langchain.text_splitter import RecursiveCharacterTextSplitter\n",
    "from PyPDF2 import PdfReader\n"
   ]
  },
  {
   "cell_type": "code",
   "execution_count": 36,
   "metadata": {},
   "outputs": [],
   "source": [
    "model = Ollama(model=MODEL)\n",
    "ollama_embeddings = OllamaEmbeddings(model=MODEL)\n",
    "parser = StrOutputParser()"
   ]
  },
  {
   "cell_type": "markdown",
   "metadata": {},
   "source": [
    "# Langsmith"
   ]
  },
  {
   "cell_type": "code",
   "execution_count": 9,
   "metadata": {},
   "outputs": [],
   "source": [
    "# from langsmith import Client\n",
    "# os.environ['LANGCHAIN_TRACING_V2'] = 'true' # enables tracing \n",
    "# os.environ['LANGCHAIN_API_KEY'] = os.getenv(\"LANGSMITH_API_KEY\")\n",
    "# os.environ['LANGCHAIN_PROJECT'] = 'Test'\n",
    "# client = Client()"
   ]
  },
  {
   "cell_type": "code",
   "execution_count": 10,
   "metadata": {},
   "outputs": [],
   "source": [
    "# model.invoke(f\"hello world\")\n",
    "# https://smith.langchain.com/o/a2673a5a-673b-57f0-a982-89ff7985f78f/projects/p/65623a8d-8bd5-40f6-9278-25a5bf53a021?timeModel=%7B%22duration%22%3A%227d%22%7D"
   ]
  },
  {
   "cell_type": "markdown",
   "metadata": {},
   "source": [
    "# Loading PDFs to create vectorstore"
   ]
  },
  {
   "cell_type": "code",
   "execution_count": 44,
   "metadata": {},
   "outputs": [],
   "source": [
    "def num_tokens_from_string(model, string: str) -> int:\n",
    "    \"\"\"Returns the number of tokens in a text string.\"\"\"\n",
    "    return model.get_num_tokens(string)"
   ]
  },
  {
   "cell_type": "code",
   "execution_count": 34,
   "metadata": {},
   "outputs": [
    {
     "data": {
      "text/plain": [
       "['Severe Cleidocranial dysplasia and Hypophosphatasia in a child\\nwith microdeletion of the C-terminal region of RUNX2\\nAreeg H. El-Gharbawy1,2, Joseph N. Peeden3, Ralph S. Lachman2,4, John M. Graham2,4,\\nStephen R. Moore2, and David L. Rimoin2,4\\n1Faculty of Medicine Cairo University, LA, California\\n2Medical Genetics Institute, Cedars-Sinai Medical Center, LA, California\\n3East Tennessee Children’s Hospital, Los Angeles California\\n4David Geffen School of Medicine at UCLA, Los Angeles California\\nAbstract\\nCleidocranial dysplasia (CCD) is a rare autosomal dominant skeletal dysplasia due to mutations\\ncausing haploinsufficiency of RUNX2 , an osteoblast transcription factor specific for bone and\\ncartilage. The classic form of CCD is characterized by delayed closure of the fontanels,\\nhypoplastic or aplastic clavicles and dental anomalies. Clinical reports suggest that a subset of\\npatients with CCD have skeletal changes which mimic hypophosphatasia. Mutations in RUNX2\\nare detected in approximately 65% of cases of CCD, and microdeletions occur in 13%. We present\\nclinical and radiological features in a 6-year-old child with severe CCD manifested by absence of\\nthe clavicles marked calvarial hypomineralization, osteoporosis and progressive kyphoscoliosis.\\nHypophosphatasia features included Bowdler spurs, severe osteopenia and low alkaline\\nphosphatase. Following negative mutation analysis of RUNX2 , comparative genomic hybridization\\n(CGH) microarray was performed. The result revealed a microdeletion in RUNX2 , disrupting the\\nC-terminal part of the gene.\\nKeywords\\ncleidocranial dysplasia; hypophosphatasia; RUNX2 ; osteoporosis; kyphoscoliosis; aCGH;\\nmicrodeletion; C-terminus\\nINTRODUCTION\\nCleidocranial dysplasia (CCD; OMIM 119600) and hypophosphatasia (HPP; OMIM\\n241500) are two distinct skeletal disorders. CCD is an autosomal dominant disorder caused\\nby haploinsufficiency of RUNX2  “Runt related transcription factor 2”. [Mundlos et al, 1995;\\nMundlos 1997; Lee et al., 1997]. RUNX2  is a transcription factor essential for osteoblast cell\\ncommitment and chondrocyte maturation [Ducy et al, 1997].\\nDelayed closure of the fontanels, hypoplastic or aplastic clavicles and dental anomalies\\ncharacterize CCD. Inter and intra-familial variable expressivity [Chitayat et al., 1992] range\\nfrom a mild isolated dental phenotype to severe CCD complicated by recurrent fractures and\\ngeneralized osteoporosis [Quack et al.,1999]. Dental anomalies and clavicular hypoplasia\\nCORRESPONDING AUTHOR:  David L. Rimoin, M.D, Ph.D, Director of the Medical Genetics Institute and Steven Spielberg\\nChair at Cedars-Sinai Medical Center and Professor of Pediatrics, Medicine and Human Genetics at the David Geffen School of\\nMedicine at UCLA, Tel 310-423-4461, Fax: 310-423-0462, David.Rimoin@cshs.org.\\nNIH Public Access\\nAuthor Manuscript\\nAm J Med Genet A . Author manuscript; available in PMC 2011 January 1.\\nPublished in final edited form as:\\nAm J Med Genet A . 2010 January ; 152A(1): 169±174. doi:10.1002/ajmg.a.33146.\\nNIH-PA Author Manuscript NIH-PA Author Manuscript NIH-PA Author Manuscript',\n",
       " 'are consistent features of this disorder [Otto et al., 2002; Quack et al., 1999]. Craniofacial\\nfeatures include brachycephaly, delayed closure of the fontanelles and sutures, wormian\\nbones, frontal and biparietal bossing, relative macrocephaly, depressed nasal bridge, midface\\nhypoplasia, unerupted teeth with supernumerary permanent teeth and delayed union of the\\nmandibular symphysis. Other skeletal features include short stature (mild to moderate), genu\\nvalgum, delayed ossification of the pubic symphysis and pubic bones, tall/ hypoplastic iliac\\nwings, pes planus, brachydactyly, joint laxity and scoliosis, [Cooper et al., 2001;Mendoza-\\nLondono and Lee, 2006]. Debilitating kyphoscoliosis is not common in CCD. Scoliosis was\\nreported in 16/90 (17%) of patients with CCD, usually manifesting at a later age. Three of\\nthe affected patients in that study used a back brace, and none required surgery [Cooper et\\nal, 2001].\\nHypophosphatasia is an inborn error of bone metabolism caused by mutations in the tissue\\nnon-specific alkaline phosphatase ( TNSALP ) gene [Whyte, 1994]. Both autosomal recessive\\nand dominant forms have been described. Clinical manifestations of hypophosphatasia vary\\nby age at clinical presentation and are divided into: perinatal, childhood, adult forms, as well\\nas odontohypophosphatasia where only dental manifestations are noted. The level of serum\\nalkaline phosphatase (ALP) activity seems to be correlated with the severity of the disorder\\n[Whyte, 1994].\\nBiochemical markers used for the diagnosis of HPP include low serum alkaline phosphatase,\\nincreased phosphoethanolamine (PEA) in urine and plasma, increased inorganic plasma\\npyrophosphate (PPi) and increased pyridoxal 5’-phosphate (PLP) in absence of vitamin B6\\nintake [Whyte 1994; Whyte 2001]. The term “severe CCD” has been used to describe\\npatients who have CCD, osteoporosis and early recurrent fractures [Quack et al., 1999], and\\nsevere parietal bone hypoplasia [Cunningham et al., 2006]. In 2002, two separate groups\\ndescribed patients who had combined features of CCD and HPP. One group found no\\nmutations in RUNX2  or TNSALP [Unger et al., 2002], while the other reported a\\nheterozygous mutation (Arg169Pro caused by nucleotide change 506G>C) in RUNX2  in a\\nmother and daughter [Morava et al., 2002]. A CCD-Like phenotype has also been reported\\nwith 8q22 deletions [Breuten et. al, 1992]. We describe herein the clinical- radiologic and\\ngenetic-metabolic findings of a child with severe CCD featuring short stature, osteoporosis\\nand progressive kyphoscoliosis. He also had Bowdler spurs, and subnormal serum alkaline\\nphosphatase levels suggestive of HPP. The underlying genetic defect was found to be a\\nmicrodeletion in the C-terminal region of RUNX2 .\\nCLINICAL REPORT\\nA 6-year-old male, with normal intellect, was referred to the skeletal dysplasia clinic\\nbecause of CCD complicated by severe progressive kyphoscoliosis. His prenatal history and\\nultrasound were normal. He is the only child, born to a young, nonconsanguineous\\nCaucasian couple. The father is 196 cm and the mother 163 cm. Delivery was by cesarean at\\n41 weeks gestation due to cephalo-pelvic disproportion. At birth, his weight was 3.65 kg,\\nlength 50.8 cm, and head circumference 35 cm.\\nHe was noted to have a soft cranium and narrow, sloping shoulders. The chest wall was not\\nsmall or deformed. He had peripheral cyanosis and mild tachypnea that resolved by hood O2\\nas well as hypoglycemia that resolved by feeding. The family history revealed that the\\nproband’s parents were healthy and a distant maternal male cousin had short stature and\\nthyroid disease.\\nThe patient had widened fontanels and relative macrocephaly. Progressive growth failure\\nbegan at 3 months of age. A full endocrine and gastrointestinal work up revealed no\\nexplanation for his growth failure. His dental development was characteristically abnormalEl-Gharbawy et al. Page 2\\nAm J Med Genet A . Author manuscript; available in PMC 2011 January 1.\\nNIH-PA Author Manuscript NIH-PA Author Manuscript NIH-PA Author Manuscript',\n",
       " 'showing supernumerary teeth that were shed spontaneously and delayed eruption of\\npermanent teeth. He had recurrent otitis media, requiring grommet tube insertions, and\\ndeveloped profound hearing loss-requiring hearing aids. He also had chronic sinusitis and\\nwheezing episodes. Kyphoscoliosis was apparent before 1 year of age, requiring a back\\nbrace at the age of 3 years, with no improvement. Figure 1, demonstrates the severity of his\\nbone deformity at the age of 7 years.\\nHis past history was significant for 2 separate fractures following minor trauma: a posterior\\ncortical fracture of the distal tibia which required casting for 2 weeks and a hairline fracture\\nof the foot. He also required frenuloplasty for ankyloglossia, adenoidectomy and inguinal\\nhernia repair. He had nasalized speech which was otherwise normal. He had short trunked\\ndwarfism and was approximately 4 standard deviations (SD) below the mean for height, and\\n2 SD below the mean for weight. He had brachycephaly and frontal bossing. The anterior\\nand posterior fontanels, as well as the metopic suture were wide open. He had hypertelorism\\nand slight depression of his nasal bridge. His palate was narrow and high arched. He had\\nsupernumerary teeth, while other teeth were missing. His shoulders were narrow, sloping,\\nand could be opposed easily. The back and spine showed severe kyphoscoliosis. The chest\\nwall was asymmetrically deformed, protruding anteriorly at the upper part of the sternum.\\nThe cardiopulmonary exam was normal. The abdominal exam showed no organomegaly, the\\ngenitourinary exam was unremarkable. He had brachydactyly, with broad, proximally-\\nplaced thumbs.\\nThere was swelling at the middle inter-phalangeal joints and laxity of the joints of the\\nfingers, wrists, and elbows. There were bilateral skin dimples in the region of the mid shaft\\nof the tibiae, and pes planus. The neurological exam was essentially normal with no\\nevidence of nerve compression. The radiological findings are demonstrated in Figure 2 and\\nFigure 3 respectively, taken during the first week of life. A prominent finding was\\ngeneralized osteopenia. The skull was brachycephalic with markedly diminished ossification\\nof membranous bone, wide separation of the sutures, wormian bones and hypoplastic teeth.\\nThe clavicles were absent bilaterally and the posterior ribs were widely separated from the\\nspinal elements. There were coronal and sagittal cleft- like ossification defects in the lumbar\\nvertebrae, and kyphoscoliosis with lumbar lordosis. There was absent ossification of the\\npubic and ischial bones. The hands revealed hypoplastic metacarpals and distal phalanges of\\nthe thumbs. Both fibulae showed osteochondral projections (Bowdler spurs) at the midshaft\\nof the fibulae, but the long bones revealed no evidence of metaphyseal abnormalities. The\\npatient’s most recent pulmonary function testing was restricted by his severe kyphoscoliosis.\\nHis maximum inspiratory and expiratory pressures were low at 16% of predicted for\\nmaximum inspiratory pressure and 36% of predicted for maximum expiratory pressure.\\nBone mineral density done at the age of 7 years revealed severe demineralization of the\\nlumbar spine corresponding to a calculated z-score of −3.4 and z- score average of both\\nfemoral necks was −4.87.\\nMETHODS AND RESULTS\\nBiochemical studies revealed a serum calcium level of 9.9 mg/dl (8.7–10.5), with normal\\nalbumin and phosphorus levels. The serum alkaline phosphatase levels were low on two\\noccasions 102 U/L in 2007 (134–346) and 118 (145–320 U/L) in 2005.\\nHis urine spot phosphoethanolamine was 108mmol/mg creatinine, (within the normal range)\\nwhile the osteocalcin level was 8 ng/ml( normal <7.2). Cytogenetic analysis of peripheral\\nblood showed a normal 46,XY karyotype. RUNX2  mutation analysis was negative.\\nPeripheral blood was sent to Signature Genomics Laboratories, LLC (Spokane, Washington)\\nfor array Comparative Genomic Hybridization (aCGH). Array CGH analysis of 1543 lociEl-Gharbawy et al. Page 3\\nAm J Med Genet A . Author manuscript; available in PMC 2011 January 1.\\nNIH-PA Author Manuscript NIH-PA Author Manuscript NIH-PA Author Manuscript',\n",
       " \"using almost 5000 Bacterial Artificial Chromosome (BAC) clones was used to explore DNA\\ngains or losses in a peripheral blood specimen from this patient. Loss of a single BAC signal\\nwas reported at chromosome 6p12.3 (CTD-2528C1; 45,544,848-45,692bp). This deletion\\nwas confirmed and narrowed to ~70kb (45,593,804-45,643,200bp, +/ − 9kb for each nearest\\nproximal and distal flanking probes) using an oligonucleotide aCGH approach where seven\\ncontiguous oligonucleotide probes were lost.\\nThe magnitude of fluorescence lost was equivalent to a single copy deletion using either\\naCGH approach. The deletion disrupts the 3' end of the RUNX2  gene (OMIM #600211),\\nincluding an additional 25Kb of non-coding sequence past the stop codon (Fig. 4). This\\ndeletion is predicted to truncate the transcript and prevent translation of acids 327 to 521. No\\ndeletion, or alteration, was observed at 8q22, a region when deleted causes a CCD-like\\nphenotype [Brueton et al, 1992].\\nDISCUSSION\\nThe diagnosis of CCD is usually based on clinical and radiological findings [Lee and Zhou,\\n2004]. A subset of patients with CCD have radiographic and biochemical features that\\noverlap with HPP [Wyckoff et al., 2005; Morava et al., 2002; and Unger et al., 2002]. In\\ninfancy, it may be difficult to clinically differentiate between both disorders because both\\npresent with a soft cranium. RUNX2 , the gene mutated in CCD is a transcription factor that\\nregulates intra-membranous and endochondral ossification during embryonic and postnatal\\nskeletogenesis [Ducy et al., 1997]. Because the clavicles ossify embryologically by both\\nroutes, the presence of significantly hypoplastic or aplastic clavicle(s) suggest CCD [Zeng et\\nal., 2005; Huang et al., 1997]. Complete absence of the clavicle has not been reported in\\nHPP [Shohat et al., 1991]. Currently, there is no effective treatment for either disorder, but\\nfor purposes of genetic counseling and assessment of the prognosis, it is prudent to identify\\nthe underlying genetic/metabolic defect in patients with overlapping features.\\nIn this report, the proband had clinical features suggestive of CCD since birth. Unexplained\\nsevere growth failure, dentition problems, and progressive kyphoscoliosis started in infancy\\nproceeding into childhood. At the age of six years, he became a candidate for corrective\\nspinal surgery to prevent pulmonary restriction. The pulmonologist and multiple orthopedic\\nsurgeons suggested intervention to allow pulmonary expansion by either using a growing\\nrod or vertical expandable titanium rib (VEPTR). The decision to perform this surgery\\nelectively has been delayed due to concerns regarding the skeletal architecture and defective\\nbone mineralization. Absence of the clavicles, suggested a diagnosis of CCD. Quack et al\\n[1999] described a patient who had an unusual form of CCD, associated with an insertion/\\nframeshift mutation (1205–1206insC). This patient had recurrent fractures that started in\\nutero and severe osteoporosis diagnosed in adulthood. He developed severe scoliosis and\\nlordosis of the spine at a later age necessitating the implantation of a Harrington rod for\\nspinal support [Quack et al., 1999].\\nIt has been shown that Runx2  null mice ( −/−) do not form bone, and lose markers of early\\nbone differentiation including alkaline phosphatase while heterozygote Runx2  deficient mice\\n(+/−) have features of CCD with reduced alkaline phosphatase activity [Komori et al., 1997;\\nOtto et al.,1997]. Forced expression of RUNX2  in cell lines of mesenchymal origin lead to\\nupregulation of osteoblast-expressed genes such as osteocalcin and alkaline phosphatase\\n[Ducy, 1999]. Mutant mice expressing a truncated Runx 2  C-protein lack a mineralized\\nskeleton and fail to transactivate the osteocalcin promoter when co expressed with either\\nBMP2  “ bone morphogenic protein 2” or TGFB  “ transforming growth factor beta”\\nresponsive [Afzal et al., 2005; Choi et al., 2001].El-Gharbawy et al. Page 4\\nAm J Med Genet A . Author manuscript; available in PMC 2011 January 1.\\nNIH-PA Author Manuscript NIH-PA Author Manuscript NIH-PA Author Manuscript\",\n",
       " \"In humans with CCD, RUNX2  mutations are detected in 65% of cases, while microdeletions\\noccur in 13% of those with normal mutation analysis [Mendoza-Londono and Lee, 2006].\\nMost deletions of RUNX2  involve only a few bases [Mundlos et al. 1995,1997; Otto et al.,\\n2002; Quack et al., 1999]. A larger deletion spanning both RUNX2  and the upstream gene\\nVEGF  “vascular endothelial growth factor” was detected in a patient with CCD and vascular\\nanomalies [Izumi et al., 2006]. Another report described a large intragenic deletion\\ninvolving exons 2–6 in a three-generation family with typical CCD features, hypoplastic\\ndistal phalanges and cone shaped epiphysis of the middle phalanges [Lee et al., 2008]. In our\\npatient, no mutations (base changes or small insertions/deletions) were detected upon\\nsequencing RUNX2 , so the possibility of a large-scale genomic change involving RUNX2\\nwas investigated using aCGH. These studies revealed a 50–70Kb deletion, which predicted a\\ndisruption of the C-terminal region of RUNX2  encompassing the coding sequence for amino\\nacids (aa) 327 to 521. SMAD 1,2,3,5 binding sites and the nuclear matrix targeting signal\\n(NMTS) regions are within the deleted region (aa 369–417 and aa 390–427, respectively;\\nwhile the RUNT domain is not. A similar mutation was described by Quack et al. [1999] in\\na patient with severe CCD. They reported an insertion/frameshift 3' of the RUNT domain,\\nwhich left the DNA binding domain intact, but without activation potential, and they\\npostulated that this alteration may result in a dominant negative effect [Quack et al. 1999].\\nWithin the constraints of the current clinical study, we cannot discriminate a dominant\\nnegative effect from haploinsufficiency. The hypophosphatasia features in our patient may\\nbe secondary to reduced osteoblast differentiation and bone formation or abnormal RUNX2 -\\nSMAD interaction. The findings in this patient emphasize the importance of defining the\\nclinical and metabolic phenotype in patients with severe disease and the need to search for\\ndeletions when sequencing of the target gene is normal. It also sheds light on the integral\\nrole of the C-terminal region of RUNX2  in human osteogenesis and osteoblast\\ndifferentiation.\\nAcknowledgments\\nThis work is supported in part by an NIH Program Project Grant HD22657\\nThe authors acknowledge the patient and his family for their kind participation in this case study.\\nREFERENCES\\nAfzal F, Pratap J, Ito K, Ito Y, Stein JL, van Wijnen AJ, Stein GS, Lian JB, Javed A. Smad function\\nand intranuclear targeting share a RUNX2 motif required for osteogenic lineage induction and\\nBMP2 responsive transcription. J. Cell. Physiol. 2005; 204:63–72. [PubMed: 15573378]\\nBrueton LA, Reeve A, Ellis R, Husband P, Thompson EM, Kingston HM. Apparent cleidocranial\\ndysplasia associated with abnormalities of 8q22 in three individuals. Am J Med Genet. 1992;\\n1192(43):612–618. [PubMed: 1605259]\\nChitayat D, Hodgkinson KA, Azouz EM. Intrafamilial variability in cleidocranial dysplasia: a three\\ngeneration family. Am J Med Genet. 1992; 42:298–303. [PubMed: 1536165]\\nChoi J-Y, Pratap J, Javed A, Zaidi SK, Xing L, Balient E, Dalamangas S, Boyce B, van Wijnen AJ,\\nLian JB, Stein JL, Jones SN, Stein GS. Sub nuclear targeting of RUNX2/Cbfa/AML factors is\\nessential for tissue-specific differentiation during embryonic development. Proc Natl Acad Sci\\nUSA. 2001; 98:8650–8655. [PubMed: 11438701]\\nCooper SC, Flaitz M, Johnston DA, Brendan L, Hecht JT. A natural history of Cleidocranial dysplasia.\\nAm J Med Genet. 2001; 104:1–6. [PubMed: 11746020]\\nCunningham ML, Seto ML, Hing AV, Bull MJ, Hopkin RJ, Leppig KA. Cleidocranial dysplasia with\\nsevere parietal bone dysplasia: C-terminal RUNX2 Mutations. Birth Defects Research(A). 2006;\\n76:78–85.El-Gharbawy et al. Page 5\\nAm J Med Genet A . Author manuscript; available in PMC 2011 January 1.\\nNIH-PA Author Manuscript NIH-PA Author Manuscript NIH-PA Author Manuscript\",\n",
       " 'Ducy P, Zhang R, Geoffroy V, Ridall AL, Karsenty G. Osf2/Cbfa1: a transcriptional activator of\\nosteoblast differentiation. Cell. 1997; 89:747–754. [PubMed: 9182762]\\nDucy P, Starbuck M, Priemel M, Shen J, Pinero G, Geoffroy V, Amling M, Karsenty G. ACbfa1-\\ndependent genetic pathway controls bone formation beyond embryonic development. Genes Dev.\\n1999; 13:1025–1036. [PubMed: 10215629]\\nHuang LF, Fukai N, Selby PB, Olsen BR, Mundlos S. Mouse clavicular development: analysis of wild\\ntype and cleidocranial dysplasia mutant mice. Dev Dyn. 1997; 210:33–40. [PubMed: 9286593]\\nIzumi K, Yahagi N, Fujii Y, Higuchi M, Kosaki R, Naito Y, Nishimura G, Hosokai N, Takahashi K,\\nKosaki K. Cleidocranial dysplasia plus vascular anomalies with 6p21.2 microdeletion spanning\\nRUNX2 and VEGF. Am J Med Genet Part A. 2006; 140A:398–401. [PubMed: 16419134]\\nKomori T, Yagi H, Nomura A, Yamaguchi A, Sasaki K, Deguchi K, Shimizu Y, Bronson RT, Gao\\nYH, Inada M, Sato M, Okamoto R, Kitamura Y, Yoshiki S, Kishimoto T. Targeted disruption of\\nCbfa1 results in a complete lack of bone formation owing to maturational arrest of osteoblasts.\\nCell. 1997; 89:755–764. [PubMed: 9182763]\\nLee B, Thirunavukkarasu K, Zhou L, Pastore L, Baldini A, Hecht J, Geoffrov V, Ducy P, Karsenty G.\\nMissense mutations abolishing DNA binding of the osteoblast-specific transcription factor OSF/\\nCBFA1 in cleidocranial dysplasia. Nat Genet. 1997; 16:307–310. [PubMed: 9207800]\\nLee, B.; Zhou, G. RUNX2 and cleidocranial dysplasia. In: Epstein, CJ.; Erickson, RP.; Wynshaw-\\nBoris, A., editors. Inborn errors of development. New York: Oxford; 2004. p. 331-339.\\nLee MT, Tsai AC, Chou CH, Sun FM, Huang LC, Yen P, Lin CC, Liu CY, Wu JY, Chen YT, Tsai FJ.\\nIntragenic microdeletion of RUNX2 is a novel mechanism for cleidocranial dysplasia. Genomic\\nMed. 2008; 2:45–49. [PubMed: 18696259]\\nMendoza-Londono, R.; Lee, B. Cleidocranial dysplasia; Gene Rev. 2006. p.\\n1-18.http:/www.geneclinics.org\\nMorava E, Karteszi J, Weisenbach AC, Mundlos S, Mehes K. Cleidocranial dysplasia with decreased\\nbone density and biochemical findings of hypophosphatasia. Eur J Pediatr. 2002; 161:619–622.\\n[PubMed: 12424590]\\nMundlos S, Mulliken JB, Abramson DL, Warman ML, Knoll JH, Olsen BR. Genetic mapping of\\ncleidocranial dysplasia and evidence of a microdeletion in one family. Hum Mol Genet. 1995;\\n56:938–943.\\nMundlos S. Cleidocranial dysplasia: clinical and molecular genetics. J Med Genet. 1999; 13:177–182.\\n[PubMed: 10204840]\\nOtto F, Thornell AP, Crompton T, Denzel A, Gilmore KC, Rosewell IR, Stamp GW, Beddington RS,\\nMundlos S, Olsen BR, Selby PB, Owen MJ. Cbfa1, a candidate gene for cleidocranial dysplasia\\nsyndrome is essential for osteoblast differentiation and bone development. Cell. 1997; 89:765–\\n771. [PubMed: 9182764]\\nOtto F, Kanegane H, Mundlos S. Mutations in the RUNX2 gene in patients with Cleidocranial\\ndysplasia. Hum Mutat. 2002; 19:209–216. [PubMed: 11857736]\\nQuack I, Vonderstrass B, Stock M, Aylsworth AS, Becker A, Brueton L, Lee PJ, Majewski F,\\nMulliken JB, Suri M, Zenker M, Mundlos S, Otto F. Mutation analysis of core binding factor A1\\nin patients with cleidocranial dysplasia. Am J Hum Genet. 1999; 65:1268–1278. [PubMed:\\n10521292]\\nShohat M, Rimoin DL, Gruber HE, Lachman RS. Perinatal lethal hypophosphatasia: clinical,\\nradiologic and morphologic findings. Pediatr Radiol. 1991; 21:421–427. [PubMed: 1749675]\\nUnger S, Mornet E, Mundlos S, Blaser S, Cole DEC. Severe cleidocranial dysplasia can mimic\\nhypophosphatasia. Eur J Pediatr. 2002; 161:623–626. [PubMed: 12424591]\\nWhyte MP. Hyposphatasia and the role of alkaline phosphatase in skeletal mineralization. Endocr Rev.\\n1994; 15:439–446. [PubMed: 7988481]\\nWhyte, MP. Hypophosphatasia. In: Scriver, CR.; Beaudet, AL.; Sly, WS.; Valle, D., editors. The\\nmetabolic and molecular bases of inherited disease. 8th ed.. New York: McGraw-Hill; 2001. p.\\n5313-5329.\\nWyckoff MH, El-Turk C, Laptook A, Timmons C, Gannon FH, Zhang X, Mumm S, Whyte MP.\\nNeonatal lethal Osteochondrodysplasia with low serum levels of alkaline phosphatase and\\nosteocalcin. J Clin Endocrinol Metab. 2005; 90:1233–1240. [PubMed: 15562030]El-Gharbawy et al. Page 6\\nAm J Med Genet A . Author manuscript; available in PMC 2011 January 1.\\nNIH-PA Author Manuscript NIH-PA Author Manuscript NIH-PA Author Manuscript',\n",
       " 'Zheng Q, Sebald E, Guang Z, Zhou G, Chen Y, Wilcox W, Lee B, Krakow D. Dysregulation of\\nchondrogenesis in human Cleidocranial dysplasia. Am J. Hum. Genet. 2005; 77:305–312.\\n[PubMed: 15952089]El-Gharbawy et al. Page 7\\nAm J Med Genet A . Author manuscript; available in PMC 2011 January 1.\\nNIH-PA Author Manuscript NIH-PA Author Manuscript NIH-PA Author Manuscript',\n",
       " 'Figure 1.\\nShows the appearance of the patient’s chest wall and back/spine\\nThere is marked pectus and kyphoscoliosis at the age of 7 years .El-Gharbawy et al. Page 8\\nAm J Med Genet A . Author manuscript; available in PMC 2011 January 1.\\nNIH-PA Author Manuscript NIH-PA Author Manuscript NIH-PA Author Manuscript',\n",
       " 'Figure 2.\\nAP skull radiograph in the newborn period showed absent lateral orbital and poor\\nmembraneous skull ossification. The teeth are hypoplasticEl-Gharbawy et al. Page 9\\nAm J Med Genet A . Author manuscript; available in PMC 2011 January 1.\\nNIH-PA Author Manuscript NIH-PA Author Manuscript NIH-PA Author Manuscript',\n",
       " 'Figure 3.\\nRadiographic images obtained during the Newborn period: Upper row: left to right depicts\\nAP Thorax showing absent clavicles, large separation of the posterior ribs from the spinal\\nelements, sagittal clefting is present. AP radiograph of the Hand revealed a hypoplastic\\nmetacarpal and distal phalanx of the thumb. Lower row, left to right: depicts AP film of the\\nPelvis and Hips showing tall narrow iliac wings, absent pubic and ischial ossification, absent\\nlower sacral pedicle ossification. AP radiographs of both Tibias and Fibulas showing fibula\\nangulation with tiny osteochondral projections [Bowdler spurs] at the site of the skin\\ndimplesEl-Gharbawy et al. Page 10\\nAm J Med Genet A . Author manuscript; available in PMC 2011 January 1.\\nNIH-PA Author Manuscript NIH-PA Author Manuscript NIH-PA Author Manuscript',\n",
       " 'Figure 4.\\nDisruption of RUNX2  by genomic deletion. An array comparative genomic hybridization\\n(aCGH) plot (Genoglyphix; courtesy Signature Genomic Laboratories) is presented at the\\ntop of the figure, above a chromosome 6 ideogram. The deletion encompasses 7\\noligonucleotide probes at 6p12.3 which are expanded below the ideogram. The expanded\\nview of the deleted region is overlayed on a cartoon representation of the exon/intron\\nstructure of the RUNX2  gene, drawn to approximate horizontal scale. The deletion is\\npredicted to disrupt the C-terminal end of the protein (starting with exon 6), which is\\ninvolved in transactivation/repression, protein-protein interaction, and includes the nuclear\\nmatrix-targeting signal (see text for details). This region is essential for integrating TGFB\\nand BMP2  signaling pathways which are important for osteogenesis.El-Gharbawy et al. Page 11\\nAm J Med Genet A . Author manuscript; available in PMC 2011 January 1.\\nNIH-PA Author Manuscript NIH-PA Author Manuscript NIH-PA Author Manuscript',\n",
       " 'Severe Cleidocranial dysplasia and Hypophosphatasia in a child\\nwith microdeletion of the C-terminal region of RUNX2\\nAreeg H. El-Gharbawy1,2, Joseph N. Peeden3, Ralph S. Lachman2,4, John M. Graham2,4,\\nStephen R. Moore2, and David L. Rimoin2,4\\n1Faculty of Medicine Cairo University, LA, California\\n2Medical Genetics Institute, Cedars-Sinai Medical Center, LA, California\\n3East Tennessee Children’s Hospital, Los Angeles California\\n4David Geffen School of Medicine at UCLA, Los Angeles California\\nAbstract\\nCleidocranial dysplasia (CCD) is a rare autosomal dominant skeletal dysplasia due to mutations\\ncausing haploinsufficiency of RUNX2 , an osteoblast transcription factor specific for bone and\\ncartilage. The classic form of CCD is characterized by delayed closure of the fontanels,\\nhypoplastic or aplastic clavicles and dental anomalies. Clinical reports suggest that a subset of\\npatients with CCD have skeletal changes which mimic hypophosphatasia. Mutations in RUNX2\\nare detected in approximately 65% of cases of CCD, and microdeletions occur in 13%. We present\\nclinical and radiological features in a 6-year-old child with severe CCD manifested by absence of\\nthe clavicles marked calvarial hypomineralization, osteoporosis and progressive kyphoscoliosis.\\nHypophosphatasia features included Bowdler spurs, severe osteopenia and low alkaline\\nphosphatase. Following negative mutation analysis of RUNX2 , comparative genomic hybridization\\n(CGH) microarray was performed. The result revealed a microdeletion in RUNX2 , disrupting the\\nC-terminal part of the gene.\\nKeywords\\ncleidocranial dysplasia; hypophosphatasia; RUNX2 ; osteoporosis; kyphoscoliosis; aCGH;\\nmicrodeletion; C-terminus\\nINTRODUCTION\\nCleidocranial dysplasia (CCD; OMIM 119600) and hypophosphatasia (HPP; OMIM\\n241500) are two distinct skeletal disorders. CCD is an autosomal dominant disorder caused\\nby haploinsufficiency of RUNX2  “Runt related transcription factor 2”. [Mundlos et al, 1995;\\nMundlos 1997; Lee et al., 1997]. RUNX2  is a transcription factor essential for osteoblast cell\\ncommitment and chondrocyte maturation [Ducy et al, 1997].\\nDelayed closure of the fontanels, hypoplastic or aplastic clavicles and dental anomalies\\ncharacterize CCD. Inter and intra-familial variable expressivity [Chitayat et al., 1992] range\\nfrom a mild isolated dental phenotype to severe CCD complicated by recurrent fractures and\\ngeneralized osteoporosis [Quack et al.,1999]. Dental anomalies and clavicular hypoplasia\\nCORRESPONDING AUTHOR:  David L. Rimoin, M.D, Ph.D, Director of the Medical Genetics Institute and Steven Spielberg\\nChair at Cedars-Sinai Medical Center and Professor of Pediatrics, Medicine and Human Genetics at the David Geffen School of\\nMedicine at UCLA, Tel 310-423-4461, Fax: 310-423-0462, David.Rimoin@cshs.org.\\nNIH Public Access\\nAuthor Manuscript\\nAm J Med Genet A . Author manuscript; available in PMC 2011 January 1.\\nPublished in final edited form as:\\nAm J Med Genet A . 2010 January ; 152A(1): 169±174. doi:10.1002/ajmg.a.33146.\\nNIH-PA Author Manuscript NIH-PA Author Manuscript NIH-PA Author Manuscript',\n",
       " 'are consistent features of this disorder [Otto et al., 2002; Quack et al., 1999]. Craniofacial\\nfeatures include brachycephaly, delayed closure of the fontanelles and sutures, wormian\\nbones, frontal and biparietal bossing, relative macrocephaly, depressed nasal bridge, midface\\nhypoplasia, unerupted teeth with supernumerary permanent teeth and delayed union of the\\nmandibular symphysis. Other skeletal features include short stature (mild to moderate), genu\\nvalgum, delayed ossification of the pubic symphysis and pubic bones, tall/ hypoplastic iliac\\nwings, pes planus, brachydactyly, joint laxity and scoliosis, [Cooper et al., 2001;Mendoza-\\nLondono and Lee, 2006]. Debilitating kyphoscoliosis is not common in CCD. Scoliosis was\\nreported in 16/90 (17%) of patients with CCD, usually manifesting at a later age. Three of\\nthe affected patients in that study used a back brace, and none required surgery [Cooper et\\nal, 2001].\\nHypophosphatasia is an inborn error of bone metabolism caused by mutations in the tissue\\nnon-specific alkaline phosphatase ( TNSALP ) gene [Whyte, 1994]. Both autosomal recessive\\nand dominant forms have been described. Clinical manifestations of hypophosphatasia vary\\nby age at clinical presentation and are divided into: perinatal, childhood, adult forms, as well\\nas odontohypophosphatasia where only dental manifestations are noted. The level of serum\\nalkaline phosphatase (ALP) activity seems to be correlated with the severity of the disorder\\n[Whyte, 1994].\\nBiochemical markers used for the diagnosis of HPP include low serum alkaline phosphatase,\\nincreased phosphoethanolamine (PEA) in urine and plasma, increased inorganic plasma\\npyrophosphate (PPi) and increased pyridoxal 5’-phosphate (PLP) in absence of vitamin B6\\nintake [Whyte 1994; Whyte 2001]. The term “severe CCD” has been used to describe\\npatients who have CCD, osteoporosis and early recurrent fractures [Quack et al., 1999], and\\nsevere parietal bone hypoplasia [Cunningham et al., 2006]. In 2002, two separate groups\\ndescribed patients who had combined features of CCD and HPP. One group found no\\nmutations in RUNX2  or TNSALP [Unger et al., 2002], while the other reported a\\nheterozygous mutation (Arg169Pro caused by nucleotide change 506G>C) in RUNX2  in a\\nmother and daughter [Morava et al., 2002]. A CCD-Like phenotype has also been reported\\nwith 8q22 deletions [Breuten et. al, 1992]. We describe herein the clinical- radiologic and\\ngenetic-metabolic findings of a child with severe CCD featuring short stature, osteoporosis\\nand progressive kyphoscoliosis. He also had Bowdler spurs, and subnormal serum alkaline\\nphosphatase levels suggestive of HPP. The underlying genetic defect was found to be a\\nmicrodeletion in the C-terminal region of RUNX2 .\\nCLINICAL REPORT\\nA 6-year-old male, with normal intellect, was referred to the skeletal dysplasia clinic\\nbecause of CCD complicated by severe progressive kyphoscoliosis. His prenatal history and\\nultrasound were normal. He is the only child, born to a young, nonconsanguineous\\nCaucasian couple. The father is 196 cm and the mother 163 cm. Delivery was by cesarean at\\n41 weeks gestation due to cephalo-pelvic disproportion. At birth, his weight was 3.65 kg,\\nlength 50.8 cm, and head circumference 35 cm.\\nHe was noted to have a soft cranium and narrow, sloping shoulders. The chest wall was not\\nsmall or deformed. He had peripheral cyanosis and mild tachypnea that resolved by hood O2\\nas well as hypoglycemia that resolved by feeding. The family history revealed that the\\nproband’s parents were healthy and a distant maternal male cousin had short stature and\\nthyroid disease.\\nThe patient had widened fontanels and relative macrocephaly. Progressive growth failure\\nbegan at 3 months of age. A full endocrine and gastrointestinal work up revealed no\\nexplanation for his growth failure. His dental development was characteristically abnormalEl-Gharbawy et al. Page 2\\nAm J Med Genet A . Author manuscript; available in PMC 2011 January 1.\\nNIH-PA Author Manuscript NIH-PA Author Manuscript NIH-PA Author Manuscript',\n",
       " 'showing supernumerary teeth that were shed spontaneously and delayed eruption of\\npermanent teeth. He had recurrent otitis media, requiring grommet tube insertions, and\\ndeveloped profound hearing loss-requiring hearing aids. He also had chronic sinusitis and\\nwheezing episodes. Kyphoscoliosis was apparent before 1 year of age, requiring a back\\nbrace at the age of 3 years, with no improvement. Figure 1, demonstrates the severity of his\\nbone deformity at the age of 7 years.\\nHis past history was significant for 2 separate fractures following minor trauma: a posterior\\ncortical fracture of the distal tibia which required casting for 2 weeks and a hairline fracture\\nof the foot. He also required frenuloplasty for ankyloglossia, adenoidectomy and inguinal\\nhernia repair. He had nasalized speech which was otherwise normal. He had short trunked\\ndwarfism and was approximately 4 standard deviations (SD) below the mean for height, and\\n2 SD below the mean for weight. He had brachycephaly and frontal bossing. The anterior\\nand posterior fontanels, as well as the metopic suture were wide open. He had hypertelorism\\nand slight depression of his nasal bridge. His palate was narrow and high arched. He had\\nsupernumerary teeth, while other teeth were missing. His shoulders were narrow, sloping,\\nand could be opposed easily. The back and spine showed severe kyphoscoliosis. The chest\\nwall was asymmetrically deformed, protruding anteriorly at the upper part of the sternum.\\nThe cardiopulmonary exam was normal. The abdominal exam showed no organomegaly, the\\ngenitourinary exam was unremarkable. He had brachydactyly, with broad, proximally-\\nplaced thumbs.\\nThere was swelling at the middle inter-phalangeal joints and laxity of the joints of the\\nfingers, wrists, and elbows. There were bilateral skin dimples in the region of the mid shaft\\nof the tibiae, and pes planus. The neurological exam was essentially normal with no\\nevidence of nerve compression. The radiological findings are demonstrated in Figure 2 and\\nFigure 3 respectively, taken during the first week of life. A prominent finding was\\ngeneralized osteopenia. The skull was brachycephalic with markedly diminished ossification\\nof membranous bone, wide separation of the sutures, wormian bones and hypoplastic teeth.\\nThe clavicles were absent bilaterally and the posterior ribs were widely separated from the\\nspinal elements. There were coronal and sagittal cleft- like ossification defects in the lumbar\\nvertebrae, and kyphoscoliosis with lumbar lordosis. There was absent ossification of the\\npubic and ischial bones. The hands revealed hypoplastic metacarpals and distal phalanges of\\nthe thumbs. Both fibulae showed osteochondral projections (Bowdler spurs) at the midshaft\\nof the fibulae, but the long bones revealed no evidence of metaphyseal abnormalities. The\\npatient’s most recent pulmonary function testing was restricted by his severe kyphoscoliosis.\\nHis maximum inspiratory and expiratory pressures were low at 16% of predicted for\\nmaximum inspiratory pressure and 36% of predicted for maximum expiratory pressure.\\nBone mineral density done at the age of 7 years revealed severe demineralization of the\\nlumbar spine corresponding to a calculated z-score of −3.4 and z- score average of both\\nfemoral necks was −4.87.\\nMETHODS AND RESULTS\\nBiochemical studies revealed a serum calcium level of 9.9 mg/dl (8.7–10.5), with normal\\nalbumin and phosphorus levels. The serum alkaline phosphatase levels were low on two\\noccasions 102 U/L in 2007 (134–346) and 118 (145–320 U/L) in 2005.\\nHis urine spot phosphoethanolamine was 108mmol/mg creatinine, (within the normal range)\\nwhile the osteocalcin level was 8 ng/ml( normal <7.2). Cytogenetic analysis of peripheral\\nblood showed a normal 46,XY karyotype. RUNX2  mutation analysis was negative.\\nPeripheral blood was sent to Signature Genomics Laboratories, LLC (Spokane, Washington)\\nfor array Comparative Genomic Hybridization (aCGH). Array CGH analysis of 1543 lociEl-Gharbawy et al. Page 3\\nAm J Med Genet A . Author manuscript; available in PMC 2011 January 1.\\nNIH-PA Author Manuscript NIH-PA Author Manuscript NIH-PA Author Manuscript',\n",
       " \"using almost 5000 Bacterial Artificial Chromosome (BAC) clones was used to explore DNA\\ngains or losses in a peripheral blood specimen from this patient. Loss of a single BAC signal\\nwas reported at chromosome 6p12.3 (CTD-2528C1; 45,544,848-45,692bp). This deletion\\nwas confirmed and narrowed to ~70kb (45,593,804-45,643,200bp, +/ − 9kb for each nearest\\nproximal and distal flanking probes) using an oligonucleotide aCGH approach where seven\\ncontiguous oligonucleotide probes were lost.\\nThe magnitude of fluorescence lost was equivalent to a single copy deletion using either\\naCGH approach. The deletion disrupts the 3' end of the RUNX2  gene (OMIM #600211),\\nincluding an additional 25Kb of non-coding sequence past the stop codon (Fig. 4). This\\ndeletion is predicted to truncate the transcript and prevent translation of acids 327 to 521. No\\ndeletion, or alteration, was observed at 8q22, a region when deleted causes a CCD-like\\nphenotype [Brueton et al, 1992].\\nDISCUSSION\\nThe diagnosis of CCD is usually based on clinical and radiological findings [Lee and Zhou,\\n2004]. A subset of patients with CCD have radiographic and biochemical features that\\noverlap with HPP [Wyckoff et al., 2005; Morava et al., 2002; and Unger et al., 2002]. In\\ninfancy, it may be difficult to clinically differentiate between both disorders because both\\npresent with a soft cranium. RUNX2 , the gene mutated in CCD is a transcription factor that\\nregulates intra-membranous and endochondral ossification during embryonic and postnatal\\nskeletogenesis [Ducy et al., 1997]. Because the clavicles ossify embryologically by both\\nroutes, the presence of significantly hypoplastic or aplastic clavicle(s) suggest CCD [Zeng et\\nal., 2005; Huang et al., 1997]. Complete absence of the clavicle has not been reported in\\nHPP [Shohat et al., 1991]. Currently, there is no effective treatment for either disorder, but\\nfor purposes of genetic counseling and assessment of the prognosis, it is prudent to identify\\nthe underlying genetic/metabolic defect in patients with overlapping features.\\nIn this report, the proband had clinical features suggestive of CCD since birth. Unexplained\\nsevere growth failure, dentition problems, and progressive kyphoscoliosis started in infancy\\nproceeding into childhood. At the age of six years, he became a candidate for corrective\\nspinal surgery to prevent pulmonary restriction. The pulmonologist and multiple orthopedic\\nsurgeons suggested intervention to allow pulmonary expansion by either using a growing\\nrod or vertical expandable titanium rib (VEPTR). The decision to perform this surgery\\nelectively has been delayed due to concerns regarding the skeletal architecture and defective\\nbone mineralization. Absence of the clavicles, suggested a diagnosis of CCD. Quack et al\\n[1999] described a patient who had an unusual form of CCD, associated with an insertion/\\nframeshift mutation (1205–1206insC). This patient had recurrent fractures that started in\\nutero and severe osteoporosis diagnosed in adulthood. He developed severe scoliosis and\\nlordosis of the spine at a later age necessitating the implantation of a Harrington rod for\\nspinal support [Quack et al., 1999].\\nIt has been shown that Runx2  null mice ( −/−) do not form bone, and lose markers of early\\nbone differentiation including alkaline phosphatase while heterozygote Runx2  deficient mice\\n(+/−) have features of CCD with reduced alkaline phosphatase activity [Komori et al., 1997;\\nOtto et al.,1997]. Forced expression of RUNX2  in cell lines of mesenchymal origin lead to\\nupregulation of osteoblast-expressed genes such as osteocalcin and alkaline phosphatase\\n[Ducy, 1999]. Mutant mice expressing a truncated Runx 2  C-protein lack a mineralized\\nskeleton and fail to transactivate the osteocalcin promoter when co expressed with either\\nBMP2  “ bone morphogenic protein 2” or TGFB  “ transforming growth factor beta”\\nresponsive [Afzal et al., 2005; Choi et al., 2001].El-Gharbawy et al. Page 4\\nAm J Med Genet A . Author manuscript; available in PMC 2011 January 1.\\nNIH-PA Author Manuscript NIH-PA Author Manuscript NIH-PA Author Manuscript\",\n",
       " \"In humans with CCD, RUNX2  mutations are detected in 65% of cases, while microdeletions\\noccur in 13% of those with normal mutation analysis [Mendoza-Londono and Lee, 2006].\\nMost deletions of RUNX2  involve only a few bases [Mundlos et al. 1995,1997; Otto et al.,\\n2002; Quack et al., 1999]. A larger deletion spanning both RUNX2  and the upstream gene\\nVEGF  “vascular endothelial growth factor” was detected in a patient with CCD and vascular\\nanomalies [Izumi et al., 2006]. Another report described a large intragenic deletion\\ninvolving exons 2–6 in a three-generation family with typical CCD features, hypoplastic\\ndistal phalanges and cone shaped epiphysis of the middle phalanges [Lee et al., 2008]. In our\\npatient, no mutations (base changes or small insertions/deletions) were detected upon\\nsequencing RUNX2 , so the possibility of a large-scale genomic change involving RUNX2\\nwas investigated using aCGH. These studies revealed a 50–70Kb deletion, which predicted a\\ndisruption of the C-terminal region of RUNX2  encompassing the coding sequence for amino\\nacids (aa) 327 to 521. SMAD 1,2,3,5 binding sites and the nuclear matrix targeting signal\\n(NMTS) regions are within the deleted region (aa 369–417 and aa 390–427, respectively;\\nwhile the RUNT domain is not. A similar mutation was described by Quack et al. [1999] in\\na patient with severe CCD. They reported an insertion/frameshift 3' of the RUNT domain,\\nwhich left the DNA binding domain intact, but without activation potential, and they\\npostulated that this alteration may result in a dominant negative effect [Quack et al. 1999].\\nWithin the constraints of the current clinical study, we cannot discriminate a dominant\\nnegative effect from haploinsufficiency. The hypophosphatasia features in our patient may\\nbe secondary to reduced osteoblast differentiation and bone formation or abnormal RUNX2 -\\nSMAD interaction. The findings in this patient emphasize the importance of defining the\\nclinical and metabolic phenotype in patients with severe disease and the need to search for\\ndeletions when sequencing of the target gene is normal. It also sheds light on the integral\\nrole of the C-terminal region of RUNX2  in human osteogenesis and osteoblast\\ndifferentiation.\\nAcknowledgments\\nThis work is supported in part by an NIH Program Project Grant HD22657\\nThe authors acknowledge the patient and his family for their kind participation in this case study.\\nREFERENCES\\nAfzal F, Pratap J, Ito K, Ito Y, Stein JL, van Wijnen AJ, Stein GS, Lian JB, Javed A. Smad function\\nand intranuclear targeting share a RUNX2 motif required for osteogenic lineage induction and\\nBMP2 responsive transcription. J. Cell. Physiol. 2005; 204:63–72. [PubMed: 15573378]\\nBrueton LA, Reeve A, Ellis R, Husband P, Thompson EM, Kingston HM. Apparent cleidocranial\\ndysplasia associated with abnormalities of 8q22 in three individuals. Am J Med Genet. 1992;\\n1192(43):612–618. [PubMed: 1605259]\\nChitayat D, Hodgkinson KA, Azouz EM. Intrafamilial variability in cleidocranial dysplasia: a three\\ngeneration family. Am J Med Genet. 1992; 42:298–303. [PubMed: 1536165]\\nChoi J-Y, Pratap J, Javed A, Zaidi SK, Xing L, Balient E, Dalamangas S, Boyce B, van Wijnen AJ,\\nLian JB, Stein JL, Jones SN, Stein GS. Sub nuclear targeting of RUNX2/Cbfa/AML factors is\\nessential for tissue-specific differentiation during embryonic development. Proc Natl Acad Sci\\nUSA. 2001; 98:8650–8655. [PubMed: 11438701]\\nCooper SC, Flaitz M, Johnston DA, Brendan L, Hecht JT. A natural history of Cleidocranial dysplasia.\\nAm J Med Genet. 2001; 104:1–6. [PubMed: 11746020]\\nCunningham ML, Seto ML, Hing AV, Bull MJ, Hopkin RJ, Leppig KA. Cleidocranial dysplasia with\\nsevere parietal bone dysplasia: C-terminal RUNX2 Mutations. Birth Defects Research(A). 2006;\\n76:78–85.El-Gharbawy et al. Page 5\\nAm J Med Genet A . Author manuscript; available in PMC 2011 January 1.\\nNIH-PA Author Manuscript NIH-PA Author Manuscript NIH-PA Author Manuscript\",\n",
       " 'Ducy P, Zhang R, Geoffroy V, Ridall AL, Karsenty G. Osf2/Cbfa1: a transcriptional activator of\\nosteoblast differentiation. Cell. 1997; 89:747–754. [PubMed: 9182762]\\nDucy P, Starbuck M, Priemel M, Shen J, Pinero G, Geoffroy V, Amling M, Karsenty G. ACbfa1-\\ndependent genetic pathway controls bone formation beyond embryonic development. Genes Dev.\\n1999; 13:1025–1036. [PubMed: 10215629]\\nHuang LF, Fukai N, Selby PB, Olsen BR, Mundlos S. Mouse clavicular development: analysis of wild\\ntype and cleidocranial dysplasia mutant mice. Dev Dyn. 1997; 210:33–40. [PubMed: 9286593]\\nIzumi K, Yahagi N, Fujii Y, Higuchi M, Kosaki R, Naito Y, Nishimura G, Hosokai N, Takahashi K,\\nKosaki K. Cleidocranial dysplasia plus vascular anomalies with 6p21.2 microdeletion spanning\\nRUNX2 and VEGF. Am J Med Genet Part A. 2006; 140A:398–401. [PubMed: 16419134]\\nKomori T, Yagi H, Nomura A, Yamaguchi A, Sasaki K, Deguchi K, Shimizu Y, Bronson RT, Gao\\nYH, Inada M, Sato M, Okamoto R, Kitamura Y, Yoshiki S, Kishimoto T. Targeted disruption of\\nCbfa1 results in a complete lack of bone formation owing to maturational arrest of osteoblasts.\\nCell. 1997; 89:755–764. [PubMed: 9182763]\\nLee B, Thirunavukkarasu K, Zhou L, Pastore L, Baldini A, Hecht J, Geoffrov V, Ducy P, Karsenty G.\\nMissense mutations abolishing DNA binding of the osteoblast-specific transcription factor OSF/\\nCBFA1 in cleidocranial dysplasia. Nat Genet. 1997; 16:307–310. [PubMed: 9207800]\\nLee, B.; Zhou, G. RUNX2 and cleidocranial dysplasia. In: Epstein, CJ.; Erickson, RP.; Wynshaw-\\nBoris, A., editors. Inborn errors of development. New York: Oxford; 2004. p. 331-339.\\nLee MT, Tsai AC, Chou CH, Sun FM, Huang LC, Yen P, Lin CC, Liu CY, Wu JY, Chen YT, Tsai FJ.\\nIntragenic microdeletion of RUNX2 is a novel mechanism for cleidocranial dysplasia. Genomic\\nMed. 2008; 2:45–49. [PubMed: 18696259]\\nMendoza-Londono, R.; Lee, B. Cleidocranial dysplasia; Gene Rev. 2006. p.\\n1-18.http:/www.geneclinics.org\\nMorava E, Karteszi J, Weisenbach AC, Mundlos S, Mehes K. Cleidocranial dysplasia with decreased\\nbone density and biochemical findings of hypophosphatasia. Eur J Pediatr. 2002; 161:619–622.\\n[PubMed: 12424590]\\nMundlos S, Mulliken JB, Abramson DL, Warman ML, Knoll JH, Olsen BR. Genetic mapping of\\ncleidocranial dysplasia and evidence of a microdeletion in one family. Hum Mol Genet. 1995;\\n56:938–943.\\nMundlos S. Cleidocranial dysplasia: clinical and molecular genetics. J Med Genet. 1999; 13:177–182.\\n[PubMed: 10204840]\\nOtto F, Thornell AP, Crompton T, Denzel A, Gilmore KC, Rosewell IR, Stamp GW, Beddington RS,\\nMundlos S, Olsen BR, Selby PB, Owen MJ. Cbfa1, a candidate gene for cleidocranial dysplasia\\nsyndrome is essential for osteoblast differentiation and bone development. Cell. 1997; 89:765–\\n771. [PubMed: 9182764]\\nOtto F, Kanegane H, Mundlos S. Mutations in the RUNX2 gene in patients with Cleidocranial\\ndysplasia. Hum Mutat. 2002; 19:209–216. [PubMed: 11857736]\\nQuack I, Vonderstrass B, Stock M, Aylsworth AS, Becker A, Brueton L, Lee PJ, Majewski F,\\nMulliken JB, Suri M, Zenker M, Mundlos S, Otto F. Mutation analysis of core binding factor A1\\nin patients with cleidocranial dysplasia. Am J Hum Genet. 1999; 65:1268–1278. [PubMed:\\n10521292]\\nShohat M, Rimoin DL, Gruber HE, Lachman RS. Perinatal lethal hypophosphatasia: clinical,\\nradiologic and morphologic findings. Pediatr Radiol. 1991; 21:421–427. [PubMed: 1749675]\\nUnger S, Mornet E, Mundlos S, Blaser S, Cole DEC. Severe cleidocranial dysplasia can mimic\\nhypophosphatasia. Eur J Pediatr. 2002; 161:623–626. [PubMed: 12424591]\\nWhyte MP. Hyposphatasia and the role of alkaline phosphatase in skeletal mineralization. Endocr Rev.\\n1994; 15:439–446. [PubMed: 7988481]\\nWhyte, MP. Hypophosphatasia. In: Scriver, CR.; Beaudet, AL.; Sly, WS.; Valle, D., editors. The\\nmetabolic and molecular bases of inherited disease. 8th ed.. New York: McGraw-Hill; 2001. p.\\n5313-5329.\\nWyckoff MH, El-Turk C, Laptook A, Timmons C, Gannon FH, Zhang X, Mumm S, Whyte MP.\\nNeonatal lethal Osteochondrodysplasia with low serum levels of alkaline phosphatase and\\nosteocalcin. J Clin Endocrinol Metab. 2005; 90:1233–1240. [PubMed: 15562030]El-Gharbawy et al. Page 6\\nAm J Med Genet A . Author manuscript; available in PMC 2011 January 1.\\nNIH-PA Author Manuscript NIH-PA Author Manuscript NIH-PA Author Manuscript',\n",
       " 'Zheng Q, Sebald E, Guang Z, Zhou G, Chen Y, Wilcox W, Lee B, Krakow D. Dysregulation of\\nchondrogenesis in human Cleidocranial dysplasia. Am J. Hum. Genet. 2005; 77:305–312.\\n[PubMed: 15952089]El-Gharbawy et al. Page 7\\nAm J Med Genet A . Author manuscript; available in PMC 2011 January 1.\\nNIH-PA Author Manuscript NIH-PA Author Manuscript NIH-PA Author Manuscript',\n",
       " 'Figure 1.\\nShows the appearance of the patient’s chest wall and back/spine\\nThere is marked pectus and kyphoscoliosis at the age of 7 years .El-Gharbawy et al. Page 8\\nAm J Med Genet A . Author manuscript; available in PMC 2011 January 1.\\nNIH-PA Author Manuscript NIH-PA Author Manuscript NIH-PA Author Manuscript',\n",
       " 'Figure 2.\\nAP skull radiograph in the newborn period showed absent lateral orbital and poor\\nmembraneous skull ossification. The teeth are hypoplasticEl-Gharbawy et al. Page 9\\nAm J Med Genet A . Author manuscript; available in PMC 2011 January 1.\\nNIH-PA Author Manuscript NIH-PA Author Manuscript NIH-PA Author Manuscript',\n",
       " 'Figure 3.\\nRadiographic images obtained during the Newborn period: Upper row: left to right depicts\\nAP Thorax showing absent clavicles, large separation of the posterior ribs from the spinal\\nelements, sagittal clefting is present. AP radiograph of the Hand revealed a hypoplastic\\nmetacarpal and distal phalanx of the thumb. Lower row, left to right: depicts AP film of the\\nPelvis and Hips showing tall narrow iliac wings, absent pubic and ischial ossification, absent\\nlower sacral pedicle ossification. AP radiographs of both Tibias and Fibulas showing fibula\\nangulation with tiny osteochondral projections [Bowdler spurs] at the site of the skin\\ndimplesEl-Gharbawy et al. Page 10\\nAm J Med Genet A . Author manuscript; available in PMC 2011 January 1.\\nNIH-PA Author Manuscript NIH-PA Author Manuscript NIH-PA Author Manuscript',\n",
       " 'Figure 4.\\nDisruption of RUNX2  by genomic deletion. An array comparative genomic hybridization\\n(aCGH) plot (Genoglyphix; courtesy Signature Genomic Laboratories) is presented at the\\ntop of the figure, above a chromosome 6 ideogram. The deletion encompasses 7\\noligonucleotide probes at 6p12.3 which are expanded below the ideogram. The expanded\\nview of the deleted region is overlayed on a cartoon representation of the exon/intron\\nstructure of the RUNX2  gene, drawn to approximate horizontal scale. The deletion is\\npredicted to disrupt the C-terminal end of the protein (starting with exon 6), which is\\ninvolved in transactivation/repression, protein-protein interaction, and includes the nuclear\\nmatrix-targeting signal (see text for details). This region is essential for integrating TGFB\\nand BMP2  signaling pathways which are important for osteogenesis.El-Gharbawy et al. Page 11\\nAm J Med Genet A . Author manuscript; available in PMC 2011 January 1.\\nNIH-PA Author Manuscript NIH-PA Author Manuscript NIH-PA Author Manuscript']"
      ]
     },
     "execution_count": 34,
     "metadata": {},
     "output_type": "execute_result"
    }
   ],
   "source": [
    "f = r\"C:\\Users\\TechD\\Documents\\Marcus\\LLMs\\Rarediseases2024\\data\\HPP Papers (PDF) Via Liezl Puzon\\10.1002___ajmg.a.33146.pdf\"\n",
    "loader = PyPDFLoader(f)\n",
    "docs = loader.load()\n",
    "# text_splitter = RecursiveCharacterTextSplitter(chunk_size=300, chunk_overlap=50)\n",
    "# chunks = text_splitter.split_text(docs)\n",
    "RecursiveCharacterTextSplitter\n",
    "docs_ = []\n",
    "docs_.extend([*docs, *docs])\n",
    "doc_text = [d.page_content for d in docs_]\n",
    "doc_text"
   ]
  },
  {
   "cell_type": "code",
   "execution_count": 25,
   "metadata": {},
   "outputs": [],
   "source": [
    "def is_valid_pdf(file_path):\n",
    "    try:\n",
    "        reader = PdfReader(file_path)\n",
    "        reader.pages[0]  # Try accessing the first page\n",
    "        return True\n",
    "    except Exception:\n",
    "        return False\n",
    "\n",
    "def load_pdf(file_path):\n",
    "    loader = PyPDFLoader(file_path)\n",
    "    return loader.load()\n",
    "\n",
    "def process_pdfs(pdf_paths):\n",
    "    all_chunks = []\n",
    "    text_splitter = RecursiveCharacterTextSplitter(chunk_size=300, chunk_overlap=50)\n",
    "    for path in pdf_paths:\n",
    "        if is_valid_pdf(path):\n",
    "            documents = load_pdf(path)\n",
    "            chunks = text_splitter.split_text(documents)\n",
    "            all_chunks.extend(chunks)\n",
    "        else:\n",
    "            print(f\"Invalid PDF file: {path}\")\n",
    "    return all_chunks\n",
    "def get_pdf_paths(directory):\n",
    "  \"\"\"  This function recursively searches a directory and its subdirectories for PDF files and returns a list of their full paths.\"\"\"\n",
    "  pdf_paths = []\n",
    "  for root, _, files in os.walk(directory):\n",
    "    for filename in files:\n",
    "      if filename.lower().endswith(\".pdf\"):  # Ensure case-insensitive matching\n",
    "        pdf_paths.append(os.path.join(root, filename))\n",
    "  return pdf_paths"
   ]
  },
  {
   "cell_type": "code",
   "execution_count": 26,
   "metadata": {},
   "outputs": [
    {
     "ename": "TypeError",
     "evalue": "expected string or bytes-like object",
     "output_type": "error",
     "traceback": [
      "\u001b[1;31m---------------------------------------------------------------------------\u001b[0m",
      "\u001b[1;31mTypeError\u001b[0m                                 Traceback (most recent call last)",
      "Cell \u001b[1;32mIn[26], line 4\u001b[0m\n\u001b[0;32m      2\u001b[0m pdf_directory \u001b[38;5;241m=\u001b[39m \u001b[38;5;124mr\u001b[39m\u001b[38;5;124m\"\u001b[39m\u001b[38;5;124mC:\u001b[39m\u001b[38;5;124m\\\u001b[39m\u001b[38;5;124mUsers\u001b[39m\u001b[38;5;124m\\\u001b[39m\u001b[38;5;124mTechD\u001b[39m\u001b[38;5;124m\\\u001b[39m\u001b[38;5;124mDocuments\u001b[39m\u001b[38;5;124m\\\u001b[39m\u001b[38;5;124mMarcus\u001b[39m\u001b[38;5;124m\\\u001b[39m\u001b[38;5;124mLLMs\u001b[39m\u001b[38;5;124m\\\u001b[39m\u001b[38;5;124mRarediseases2024\u001b[39m\u001b[38;5;124m\\\u001b[39m\u001b[38;5;124mdata\u001b[39m\u001b[38;5;124m\"\u001b[39m\n\u001b[0;32m      3\u001b[0m pdf_paths \u001b[38;5;241m=\u001b[39m get_pdf_paths(pdf_directory)\n\u001b[1;32m----> 4\u001b[0m pdf_chunks \u001b[38;5;241m=\u001b[39m \u001b[43mprocess_pdfs\u001b[49m\u001b[43m(\u001b[49m\u001b[43mpdf_paths\u001b[49m\u001b[43m)\u001b[49m\n",
      "Cell \u001b[1;32mIn[25], line 19\u001b[0m, in \u001b[0;36mprocess_pdfs\u001b[1;34m(pdf_paths)\u001b[0m\n\u001b[0;32m     17\u001b[0m \u001b[38;5;28;01mif\u001b[39;00m is_valid_pdf(path):\n\u001b[0;32m     18\u001b[0m     documents \u001b[38;5;241m=\u001b[39m load_pdf(path)\n\u001b[1;32m---> 19\u001b[0m     chunks \u001b[38;5;241m=\u001b[39m \u001b[43mtext_splitter\u001b[49m\u001b[38;5;241;43m.\u001b[39;49m\u001b[43msplit_text\u001b[49m\u001b[43m(\u001b[49m\u001b[43mdocuments\u001b[49m\u001b[43m)\u001b[49m\n\u001b[0;32m     20\u001b[0m     all_chunks\u001b[38;5;241m.\u001b[39mextend(chunks)\n\u001b[0;32m     21\u001b[0m \u001b[38;5;28;01melse\u001b[39;00m:\n",
      "File \u001b[1;32mc:\\Users\\TechD\\Documents\\Marcus\\LLMs\\Rarediseases2024\\venv\\lib\\site-packages\\langchain_text_splitters\\character.py:110\u001b[0m, in \u001b[0;36mRecursiveCharacterTextSplitter.split_text\u001b[1;34m(self, text)\u001b[0m\n\u001b[0;32m    109\u001b[0m \u001b[38;5;28;01mdef\u001b[39;00m \u001b[38;5;21msplit_text\u001b[39m(\u001b[38;5;28mself\u001b[39m, text: \u001b[38;5;28mstr\u001b[39m) \u001b[38;5;241m-\u001b[39m\u001b[38;5;241m>\u001b[39m List[\u001b[38;5;28mstr\u001b[39m]:\n\u001b[1;32m--> 110\u001b[0m     \u001b[38;5;28;01mreturn\u001b[39;00m \u001b[38;5;28;43mself\u001b[39;49m\u001b[38;5;241;43m.\u001b[39;49m\u001b[43m_split_text\u001b[49m\u001b[43m(\u001b[49m\u001b[43mtext\u001b[49m\u001b[43m,\u001b[49m\u001b[43m \u001b[49m\u001b[38;5;28;43mself\u001b[39;49m\u001b[38;5;241;43m.\u001b[39;49m\u001b[43m_separators\u001b[49m\u001b[43m)\u001b[49m\n",
      "File \u001b[1;32mc:\\Users\\TechD\\Documents\\Marcus\\LLMs\\Rarediseases2024\\venv\\lib\\site-packages\\langchain_text_splitters\\character.py:80\u001b[0m, in \u001b[0;36mRecursiveCharacterTextSplitter._split_text\u001b[1;34m(self, text, separators)\u001b[0m\n\u001b[0;32m     78\u001b[0m     separator \u001b[38;5;241m=\u001b[39m _s\n\u001b[0;32m     79\u001b[0m     \u001b[38;5;28;01mbreak\u001b[39;00m\n\u001b[1;32m---> 80\u001b[0m \u001b[38;5;28;01mif\u001b[39;00m \u001b[43mre\u001b[49m\u001b[38;5;241;43m.\u001b[39;49m\u001b[43msearch\u001b[49m\u001b[43m(\u001b[49m\u001b[43m_separator\u001b[49m\u001b[43m,\u001b[49m\u001b[43m \u001b[49m\u001b[43mtext\u001b[49m\u001b[43m)\u001b[49m:\n\u001b[0;32m     81\u001b[0m     separator \u001b[38;5;241m=\u001b[39m _s\n\u001b[0;32m     82\u001b[0m     new_separators \u001b[38;5;241m=\u001b[39m separators[i \u001b[38;5;241m+\u001b[39m \u001b[38;5;241m1\u001b[39m :]\n",
      "File \u001b[1;32m~\\AppData\\Local\\Programs\\Python\\Python39\\lib\\re.py:201\u001b[0m, in \u001b[0;36msearch\u001b[1;34m(pattern, string, flags)\u001b[0m\n\u001b[0;32m    198\u001b[0m \u001b[38;5;28;01mdef\u001b[39;00m \u001b[38;5;21msearch\u001b[39m(pattern, string, flags\u001b[38;5;241m=\u001b[39m\u001b[38;5;241m0\u001b[39m):\n\u001b[0;32m    199\u001b[0m \u001b[38;5;250m    \u001b[39m\u001b[38;5;124;03m\"\"\"Scan through string looking for a match to the pattern, returning\u001b[39;00m\n\u001b[0;32m    200\u001b[0m \u001b[38;5;124;03m    a Match object, or None if no match was found.\"\"\"\u001b[39;00m\n\u001b[1;32m--> 201\u001b[0m     \u001b[38;5;28;01mreturn\u001b[39;00m \u001b[43m_compile\u001b[49m\u001b[43m(\u001b[49m\u001b[43mpattern\u001b[49m\u001b[43m,\u001b[49m\u001b[43m \u001b[49m\u001b[43mflags\u001b[49m\u001b[43m)\u001b[49m\u001b[38;5;241;43m.\u001b[39;49m\u001b[43msearch\u001b[49m\u001b[43m(\u001b[49m\u001b[43mstring\u001b[49m\u001b[43m)\u001b[49m\n",
      "\u001b[1;31mTypeError\u001b[0m: expected string or bytes-like object"
     ]
    }
   ],
   "source": [
    "# Directory containing PDFs\n",
    "pdf_directory = r\"C:\\Users\\TechD\\Documents\\Marcus\\LLMs\\Rarediseases2024\\data\"\n",
    "pdf_paths = get_pdf_paths(pdf_directory)\n",
    "pdf_chunks = process_pdfs(pdf_paths)"
   ]
  },
  {
   "cell_type": "code",
   "execution_count": 35,
   "metadata": {},
   "outputs": [
    {
     "name": "stdout",
     "output_type": "stream",
     "text": [
      "Severe Cleidocranial dysplasia and Hypophosphatasia in a child\n",
      "with microdeletion of the C-terminal region of RUNX2\n",
      "Areeg H. El-Gharbawy1,2, Joseph N. Peeden3, Ralph S. Lachman2,4, John M. Graham2,4,\n",
      "Stephen R. Moore2, and David L. Rimoin2,4\n",
      "1Faculty of Medicine Cairo University, LA, California\n"
     ]
    }
   ],
   "source": [
    "# Print a few chunks to verify\n",
    "for chunk in pdf_chunks[:1]:\n",
    "    print(chunk)"
   ]
  },
  {
   "cell_type": "code",
   "execution_count": 12,
   "metadata": {},
   "outputs": [],
   "source": [
    "def load_multiple_pdfs(pdf_paths):\n",
    "  \"\"\"\n",
    "  Loads multiple PDF files into LangChain for question answering.\n",
    "  Args:\n",
    "      pdf_paths (list): A list of full paths to the PDF files.\n",
    "  Returns:\n",
    "      langchain.RetrievalQA: A LangChain model for retrieving information\n",
    "          from the loaded PDFs.\n",
    "  \"\"\"\n",
    "\n",
    "  documents = []\n",
    "  embeddings = []\n",
    "\n",
    "  # Load each PDF and extract text\n",
    "  for path in pdf_paths:\n",
    "    loader = PyPDFLoader(path)\n",
    "    pages = loader.load()\n",
    "    text_splitter = RecursiveCharacterTextSplitter(chunk_size=300, chunk_overlap=50)\n",
    "\n",
    "    # for page in pages:\n",
    "    text = text_splitter.split_documents(pages)  # Split page text\n",
    "    documents.append(text)  # Store document text\n",
    "  return documents\n",
    "\n",
    "  # Create embeddings (replace with your preferred method)\n",
    "  ollama_embeddings = OllamaEmbeddings(model=MODEL)\n",
    "  vectorstore = DocArrayInMemorySearch.from_documents(pages, embedding=ollama_embeddings)\n",
    "  return vectorstore\n",
    "# vectorstore = load_multiple_pdfs(pdfs) # TODO: embeddings and model as parameters"
   ]
  },
  {
   "cell_type": "code",
   "execution_count": 13,
   "metadata": {},
   "outputs": [
    {
     "name": "stderr",
     "output_type": "stream",
     "text": [
      "invalid pdf header: b'<?xml'\n",
      "EOF marker not found\n"
     ]
    },
    {
     "ename": "PdfStreamError",
     "evalue": "Stream has ended unexpectedly",
     "output_type": "error",
     "traceback": [
      "\u001b[1;31m---------------------------------------------------------------------------\u001b[0m",
      "\u001b[1;31mPdfStreamError\u001b[0m                            Traceback (most recent call last)",
      "Cell \u001b[1;32mIn[13], line 2\u001b[0m\n\u001b[0;32m      1\u001b[0m \u001b[38;5;66;03m# vectorstore = DocArrayInMemorySearch.from_documents(pages, embedding=embeddings)\u001b[39;00m\n\u001b[1;32m----> 2\u001b[0m documents \u001b[38;5;241m=\u001b[39m \u001b[43mload_multiple_pdfs\u001b[49m\u001b[43m(\u001b[49m\u001b[43mpdfs\u001b[49m\u001b[43m)\u001b[49m\n\u001b[0;32m      3\u001b[0m documents[:\u001b[38;5;241m1\u001b[39m]\n",
      "Cell \u001b[1;32mIn[12], line 17\u001b[0m, in \u001b[0;36mload_multiple_pdfs\u001b[1;34m(pdf_paths)\u001b[0m\n\u001b[0;32m     15\u001b[0m \u001b[38;5;28;01mfor\u001b[39;00m path \u001b[38;5;129;01min\u001b[39;00m pdf_paths:\n\u001b[0;32m     16\u001b[0m   loader \u001b[38;5;241m=\u001b[39m PyPDFLoader(path)\n\u001b[1;32m---> 17\u001b[0m   pages \u001b[38;5;241m=\u001b[39m \u001b[43mloader\u001b[49m\u001b[38;5;241;43m.\u001b[39;49m\u001b[43mload\u001b[49m\u001b[43m(\u001b[49m\u001b[43m)\u001b[49m\n\u001b[0;32m     18\u001b[0m   text_splitter \u001b[38;5;241m=\u001b[39m RecursiveCharacterTextSplitter(chunk_size\u001b[38;5;241m=\u001b[39m\u001b[38;5;241m300\u001b[39m, chunk_overlap\u001b[38;5;241m=\u001b[39m\u001b[38;5;241m50\u001b[39m)\n\u001b[0;32m     20\u001b[0m   \u001b[38;5;66;03m# for page in pages:\u001b[39;00m\n",
      "File \u001b[1;32mc:\\Users\\TechD\\Documents\\Marcus\\LLMs\\Rarediseases2024\\venv\\lib\\site-packages\\langchain_core\\document_loaders\\base.py:29\u001b[0m, in \u001b[0;36mBaseLoader.load\u001b[1;34m(self)\u001b[0m\n\u001b[0;32m     27\u001b[0m \u001b[38;5;28;01mdef\u001b[39;00m \u001b[38;5;21mload\u001b[39m(\u001b[38;5;28mself\u001b[39m) \u001b[38;5;241m-\u001b[39m\u001b[38;5;241m>\u001b[39m List[Document]:\n\u001b[0;32m     28\u001b[0m \u001b[38;5;250m    \u001b[39m\u001b[38;5;124;03m\"\"\"Load data into Document objects.\"\"\"\u001b[39;00m\n\u001b[1;32m---> 29\u001b[0m     \u001b[38;5;28;01mreturn\u001b[39;00m \u001b[38;5;28;43mlist\u001b[39;49m\u001b[43m(\u001b[49m\u001b[38;5;28;43mself\u001b[39;49m\u001b[38;5;241;43m.\u001b[39;49m\u001b[43mlazy_load\u001b[49m\u001b[43m(\u001b[49m\u001b[43m)\u001b[49m\u001b[43m)\u001b[49m\n",
      "File \u001b[1;32mc:\\Users\\TechD\\Documents\\Marcus\\LLMs\\Rarediseases2024\\venv\\lib\\site-packages\\langchain_community\\document_loaders\\pdf.py:193\u001b[0m, in \u001b[0;36mPyPDFLoader.lazy_load\u001b[1;34m(self)\u001b[0m\n\u001b[0;32m    191\u001b[0m \u001b[38;5;28;01melse\u001b[39;00m:\n\u001b[0;32m    192\u001b[0m     blob \u001b[38;5;241m=\u001b[39m Blob\u001b[38;5;241m.\u001b[39mfrom_path(\u001b[38;5;28mself\u001b[39m\u001b[38;5;241m.\u001b[39mfile_path)  \u001b[38;5;66;03m# type: ignore[attr-defined]\u001b[39;00m\n\u001b[1;32m--> 193\u001b[0m \u001b[38;5;28;01myield from\u001b[39;00m \u001b[38;5;28;43mself\u001b[39;49m\u001b[38;5;241;43m.\u001b[39;49m\u001b[43mparser\u001b[49m\u001b[38;5;241;43m.\u001b[39;49m\u001b[43mparse\u001b[49m\u001b[43m(\u001b[49m\u001b[43mblob\u001b[49m\u001b[43m)\u001b[49m\n",
      "File \u001b[1;32mc:\\Users\\TechD\\Documents\\Marcus\\LLMs\\Rarediseases2024\\venv\\lib\\site-packages\\langchain_core\\document_loaders\\base.py:125\u001b[0m, in \u001b[0;36mBaseBlobParser.parse\u001b[1;34m(self, blob)\u001b[0m\n\u001b[0;32m    110\u001b[0m \u001b[38;5;28;01mdef\u001b[39;00m \u001b[38;5;21mparse\u001b[39m(\u001b[38;5;28mself\u001b[39m, blob: Blob) \u001b[38;5;241m-\u001b[39m\u001b[38;5;241m>\u001b[39m List[Document]:\n\u001b[0;32m    111\u001b[0m \u001b[38;5;250m    \u001b[39m\u001b[38;5;124;03m\"\"\"Eagerly parse the blob into a document or documents.\u001b[39;00m\n\u001b[0;32m    112\u001b[0m \n\u001b[0;32m    113\u001b[0m \u001b[38;5;124;03m    This is a convenience method for interactive development environment.\u001b[39;00m\n\u001b[1;32m   (...)\u001b[0m\n\u001b[0;32m    123\u001b[0m \u001b[38;5;124;03m        List of documents\u001b[39;00m\n\u001b[0;32m    124\u001b[0m \u001b[38;5;124;03m    \"\"\"\u001b[39;00m\n\u001b[1;32m--> 125\u001b[0m     \u001b[38;5;28;01mreturn\u001b[39;00m \u001b[38;5;28;43mlist\u001b[39;49m\u001b[43m(\u001b[49m\u001b[38;5;28;43mself\u001b[39;49m\u001b[38;5;241;43m.\u001b[39;49m\u001b[43mlazy_parse\u001b[49m\u001b[43m(\u001b[49m\u001b[43mblob\u001b[49m\u001b[43m)\u001b[49m\u001b[43m)\u001b[49m\n",
      "File \u001b[1;32mc:\\Users\\TechD\\Documents\\Marcus\\LLMs\\Rarediseases2024\\venv\\lib\\site-packages\\langchain_community\\document_loaders\\parsers\\pdf.py:95\u001b[0m, in \u001b[0;36mPyPDFParser.lazy_parse\u001b[1;34m(self, blob)\u001b[0m\n\u001b[0;32m     92\u001b[0m \u001b[38;5;28;01mimport\u001b[39;00m \u001b[38;5;21;01mpypdf\u001b[39;00m\n\u001b[0;32m     94\u001b[0m \u001b[38;5;28;01mwith\u001b[39;00m blob\u001b[38;5;241m.\u001b[39mas_bytes_io() \u001b[38;5;28;01mas\u001b[39;00m pdf_file_obj:  \u001b[38;5;66;03m# type: ignore[attr-defined]\u001b[39;00m\n\u001b[1;32m---> 95\u001b[0m     pdf_reader \u001b[38;5;241m=\u001b[39m \u001b[43mpypdf\u001b[49m\u001b[38;5;241;43m.\u001b[39;49m\u001b[43mPdfReader\u001b[49m\u001b[43m(\u001b[49m\u001b[43mpdf_file_obj\u001b[49m\u001b[43m,\u001b[49m\u001b[43m \u001b[49m\u001b[43mpassword\u001b[49m\u001b[38;5;241;43m=\u001b[39;49m\u001b[38;5;28;43mself\u001b[39;49m\u001b[38;5;241;43m.\u001b[39;49m\u001b[43mpassword\u001b[49m\u001b[43m)\u001b[49m\n\u001b[0;32m     96\u001b[0m     \u001b[38;5;28;01myield from\u001b[39;00m [\n\u001b[0;32m     97\u001b[0m         Document(\n\u001b[0;32m     98\u001b[0m             page_content\u001b[38;5;241m=\u001b[39mpage\u001b[38;5;241m.\u001b[39mextract_text()\n\u001b[1;32m   (...)\u001b[0m\n\u001b[0;32m    102\u001b[0m         \u001b[38;5;28;01mfor\u001b[39;00m page_number, page \u001b[38;5;129;01min\u001b[39;00m \u001b[38;5;28menumerate\u001b[39m(pdf_reader\u001b[38;5;241m.\u001b[39mpages)\n\u001b[0;32m    103\u001b[0m     ]\n",
      "File \u001b[1;32mc:\\Users\\TechD\\Documents\\Marcus\\LLMs\\Rarediseases2024\\venv\\lib\\site-packages\\pypdf\\_reader.py:127\u001b[0m, in \u001b[0;36mPdfReader.__init__\u001b[1;34m(self, stream, strict, password)\u001b[0m\n\u001b[0;32m    125\u001b[0m     \u001b[38;5;28;01mwith\u001b[39;00m \u001b[38;5;28mopen\u001b[39m(stream, \u001b[38;5;124m\"\u001b[39m\u001b[38;5;124mrb\u001b[39m\u001b[38;5;124m\"\u001b[39m) \u001b[38;5;28;01mas\u001b[39;00m fh:\n\u001b[0;32m    126\u001b[0m         stream \u001b[38;5;241m=\u001b[39m BytesIO(fh\u001b[38;5;241m.\u001b[39mread())\n\u001b[1;32m--> 127\u001b[0m \u001b[38;5;28;43mself\u001b[39;49m\u001b[38;5;241;43m.\u001b[39;49m\u001b[43mread\u001b[49m\u001b[43m(\u001b[49m\u001b[43mstream\u001b[49m\u001b[43m)\u001b[49m\n\u001b[0;32m    128\u001b[0m \u001b[38;5;28mself\u001b[39m\u001b[38;5;241m.\u001b[39mstream \u001b[38;5;241m=\u001b[39m stream\n\u001b[0;32m    130\u001b[0m \u001b[38;5;28mself\u001b[39m\u001b[38;5;241m.\u001b[39m_override_encryption \u001b[38;5;241m=\u001b[39m \u001b[38;5;28;01mFalse\u001b[39;00m\n",
      "File \u001b[1;32mc:\\Users\\TechD\\Documents\\Marcus\\LLMs\\Rarediseases2024\\venv\\lib\\site-packages\\pypdf\\_reader.py:539\u001b[0m, in \u001b[0;36mPdfReader.read\u001b[1;34m(self, stream)\u001b[0m\n\u001b[0;32m    537\u001b[0m \u001b[38;5;28;01mdef\u001b[39;00m \u001b[38;5;21mread\u001b[39m(\u001b[38;5;28mself\u001b[39m, stream: StreamType) \u001b[38;5;241m-\u001b[39m\u001b[38;5;241m>\u001b[39m \u001b[38;5;28;01mNone\u001b[39;00m:\n\u001b[0;32m    538\u001b[0m     \u001b[38;5;28mself\u001b[39m\u001b[38;5;241m.\u001b[39m_basic_validation(stream)\n\u001b[1;32m--> 539\u001b[0m     \u001b[38;5;28;43mself\u001b[39;49m\u001b[38;5;241;43m.\u001b[39;49m\u001b[43m_find_eof_marker\u001b[49m\u001b[43m(\u001b[49m\u001b[43mstream\u001b[49m\u001b[43m)\u001b[49m\n\u001b[0;32m    540\u001b[0m     startxref \u001b[38;5;241m=\u001b[39m \u001b[38;5;28mself\u001b[39m\u001b[38;5;241m.\u001b[39m_find_startxref_pos(stream)\n\u001b[0;32m    542\u001b[0m     \u001b[38;5;66;03m# check and eventually correct the startxref only in not strict\u001b[39;00m\n",
      "File \u001b[1;32mc:\\Users\\TechD\\Documents\\Marcus\\LLMs\\Rarediseases2024\\venv\\lib\\site-packages\\pypdf\\_reader.py:630\u001b[0m, in \u001b[0;36mPdfReader._find_eof_marker\u001b[1;34m(self, stream)\u001b[0m\n\u001b[0;32m    628\u001b[0m     \u001b[38;5;28;01melse\u001b[39;00m:\n\u001b[0;32m    629\u001b[0m         logger_warning(\u001b[38;5;124m\"\u001b[39m\u001b[38;5;124mEOF marker not found\u001b[39m\u001b[38;5;124m\"\u001b[39m, \u001b[38;5;18m__name__\u001b[39m)\n\u001b[1;32m--> 630\u001b[0m line \u001b[38;5;241m=\u001b[39m \u001b[43mread_previous_line\u001b[49m\u001b[43m(\u001b[49m\u001b[43mstream\u001b[49m\u001b[43m)\u001b[49m\n",
      "File \u001b[1;32mc:\\Users\\TechD\\Documents\\Marcus\\LLMs\\Rarediseases2024\\venv\\lib\\site-packages\\pypdf\\_utils.py:285\u001b[0m, in \u001b[0;36mread_previous_line\u001b[1;34m(stream)\u001b[0m\n\u001b[0;32m    283\u001b[0m found_crlf \u001b[38;5;241m=\u001b[39m \u001b[38;5;28;01mFalse\u001b[39;00m\n\u001b[0;32m    284\u001b[0m \u001b[38;5;28;01mif\u001b[39;00m stream\u001b[38;5;241m.\u001b[39mtell() \u001b[38;5;241m==\u001b[39m \u001b[38;5;241m0\u001b[39m:\n\u001b[1;32m--> 285\u001b[0m     \u001b[38;5;28;01mraise\u001b[39;00m PdfStreamError(STREAM_TRUNCATED_PREMATURELY)\n\u001b[0;32m    286\u001b[0m \u001b[38;5;28;01mwhile\u001b[39;00m \u001b[38;5;28;01mTrue\u001b[39;00m:\n\u001b[0;32m    287\u001b[0m     to_read \u001b[38;5;241m=\u001b[39m \u001b[38;5;28mmin\u001b[39m(DEFAULT_BUFFER_SIZE, stream\u001b[38;5;241m.\u001b[39mtell())\n",
      "\u001b[1;31mPdfStreamError\u001b[0m: Stream has ended unexpectedly"
     ]
    }
   ],
   "source": [
    "# vectorstore = DocArrayInMemorySearch.from_documents(pages, embedding=embeddings)\n",
    "documents = load_multiple_pdfs(pdfs)\n",
    "documents[:1]"
   ]
  },
  {
   "cell_type": "markdown",
   "metadata": {},
   "source": [
    "# Using pinecone"
   ]
  },
  {
   "cell_type": "code",
   "execution_count": null,
   "metadata": {},
   "outputs": [],
   "source": [
    "import logging\n",
    "import sys\n",
    "import os\n",
    "from llama_index.core import VectorStoreIndex, SimpleDirectoryReader\n",
    "from llama_index.vector_stores.pinecone import PineconeVectorStore\n",
    "\n",
    "logging.basicConfig(stream=sys.stdout, level=logging.INFO)\n",
    "logging.getLogger().addHandler(logging.StreamHandler(stream=sys.stdout))\n",
    "\n",
    "from pinecone import Pinecone, ServerlessSpec\n",
    "pc_api_key = os.getenv(\"PINECONE_API_KEY\")\n",
    "pc = Pinecone(api_key=pc_api_key)\n",
    "pc.create_index(\n",
    "    name=\"rarediseases2024\",\n",
    "    dimension=4096,\n",
    "    metric=\"cosine\",\n",
    "    spec=ServerlessSpec(cloud=\"aws\", region=\"us-east-1\"),\n",
    ")"
   ]
  },
  {
   "cell_type": "code",
   "execution_count": null,
   "metadata": {},
   "outputs": [],
   "source": [
    "\n",
    "retriever = vectorstore.as_retriever()# Using pinecone"
   ]
  },
  {
   "cell_type": "markdown",
   "metadata": {},
   "source": [
    "# Creating Prompts and Chain"
   ]
  },
  {
   "cell_type": "code",
   "execution_count": null,
   "metadata": {},
   "outputs": [],
   "source": [
    "# Input template\n",
    "template = \"\"\"Answer the question based on the context below. If you can't answer the question, reply \"I don't know\".\n",
    "Context: {context}\n",
    "Question: {question}\"\"\"\n",
    "prompt = PromptTemplate.from_template(template = template)\n",
    "prompt.format(context=\"Here is some context\", question=\"Here is a question\")\n",
    "\n",
    "# Generate perspectives from question\n",
    "prompt_perspectives_template = \"\"\"You are an AI language model assistant. Your task is to generate five \n",
    "different versions of the given user question to retrieve relevant documents from a vector \n",
    "database. By generating multiple perspectives on the user question, your goal is to help\n",
    "the user overcome some of the limitations of the distance-based similarity search. \n",
    "Provide these alternative questions separated by newlines. Original question: {question}\"\"\"\n",
    "prompt_perspectives = PromptTemplate.from_template(template = prompt_perspectives_template)\n",
    "\n"
   ]
  },
  {
   "cell_type": "code",
   "execution_count": null,
   "metadata": {},
   "outputs": [],
   "source": [
    "generate_queries = (\n",
    "    prompt_perspectives \n",
    "    | model\n",
    "    | StrOutputParser() \n",
    "    | (lambda x: x.split(\"\\n\"))\n",
    ")"
   ]
  },
  {
   "cell_type": "code",
   "execution_count": null,
   "metadata": {},
   "outputs": [],
   "source": [
    "# dependencies for multiquery\n",
    "from langchain.load import dumps, loads\n",
    "\n",
    "def get_unique_union(documents: list[list]):\n",
    "    \"\"\" Unique union of retrieved docs \"\"\"\n",
    "    # Flatten list of lists, and convert each Document to string\n",
    "    flattened_docs = [dumps(doc) for sublist in documents for doc in sublist]\n",
    "    # Get unique documents\n",
    "    unique_docs = list(set(flattened_docs))\n",
    "    # Return\n",
    "    return [loads(doc) for doc in unique_docs]"
   ]
  },
  {
   "cell_type": "code",
   "execution_count": null,
   "metadata": {},
   "outputs": [],
   "source": [
    "# Retrieve\n",
    "question = \"What is HPP?\"\n",
    "retrieval_chain = generate_queries | retriever.map() | get_unique_union\n",
    "docs = retrieval_chain.invoke({\"question\":question})"
   ]
  },
  {
   "cell_type": "code",
   "execution_count": null,
   "metadata": {},
   "outputs": [],
   "source": [
    "final_rag_chain = (\n",
    "    {\"context\": retrieval_chain, \n",
    "     \"question\": itemgetter(\"question\")} \n",
    "    | prompt\n",
    "    | model\n",
    "    | StrOutputParser()\n",
    ")"
   ]
  },
  {
   "cell_type": "code",
   "execution_count": null,
   "metadata": {},
   "outputs": [],
   "source": [
    "questions = [\n",
    "    # Input questions\n",
    "    \"What is HPP?\",\n",
    "    \"Can you give me a summary of HPP?\"\n",
    "]\n",
    "\n",
    "for question in questions:\n",
    "    print(f\"Question: {question}\")\n",
    "    print(f\"Answer: {final_rag_chain.invoke({'question':question})}\")"
   ]
  },
  {
   "cell_type": "code",
   "execution_count": null,
   "metadata": {},
   "outputs": [],
   "source": []
  }
 ],
 "metadata": {
  "kernelspec": {
   "display_name": "base",
   "language": "python",
   "name": "python3"
  },
  "language_info": {
   "codemirror_mode": {
    "name": "ipython",
    "version": 3
   },
   "file_extension": ".py",
   "mimetype": "text/x-python",
   "name": "python",
   "nbconvert_exporter": "python",
   "pygments_lexer": "ipython3",
   "version": "3.9.10"
  }
 },
 "nbformat": 4,
 "nbformat_minor": 2
}
